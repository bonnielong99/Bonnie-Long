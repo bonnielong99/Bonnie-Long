{
 "cells": [
  {
   "cell_type": "markdown",
   "metadata": {},
   "source": [
    "Bonnie Long\n",
    "January 17, 2019"
   ]
  },
  {
   "cell_type": "code",
   "execution_count": 6,
   "metadata": {},
   "outputs": [
    {
     "name": "stdout",
     "output_type": "stream",
     "text": [
      "0.31622776601683794\n"
     ]
    }
   ],
   "source": [
    "import numpy as np\n",
    "def Rule3(errorA,errorB):\n",
    "    errorQ = np.sqrt(errorA**2 + errorB**2)\n",
    "    return (errorQ)\n",
    "\n",
    "errorT_i = 0.3 #C \n",
    "errorT_f = 0.1 #C\n",
    "\n",
    "error_Delta_T = Rule3(errorT_i, errorT_f)\n",
    "print (error_Delta_T)"
   ]
  },
  {
   "cell_type": "code",
   "execution_count": 10,
   "metadata": {},
   "outputs": [
    {
     "name": "stdout",
     "output_type": "stream",
     "text": [
      "1.5962962827651786e-07\n"
     ]
    }
   ],
   "source": [
    "import numpy as np\n",
    "def Rule4(Q,errorA,errorB,errorC,m,n,o,A,B,C):\n",
    "    errorQ = Q*np.sqrt(((m*(errorA/A))**2) + ((n*(errorB/B))**2) + ((o*(errorC/C))**2))\n",
    "    return errorQ\n",
    "\n",
    "alpha = .00001722830956\n",
    "Delta_L = .00125 #m\n",
    "delta_Delta_L = 0.00001 #m\n",
    "L = 1.05 #m\n",
    "delta_L = .001 #m\n",
    "Delta_T = 69.1 #C\n",
    "delta_Delta_T = 0.31622776601683794 #C\n",
    "m = 1\n",
    "n = -1\n",
    "o = -1\n",
    "\n",
    "error_alpha = Rule4(alpha, delta_Delta_L, delta_L, delta_Delta_T, m, n, o, Delta_L, L, Delta_T)\n",
    "print (error_alpha)"
   ]
  },
  {
   "cell_type": "code",
   "execution_count": null,
   "metadata": {},
   "outputs": [],
   "source": []
  }
 ],
 "metadata": {
  "kernelspec": {
   "display_name": "Python 3",
   "language": "python",
   "name": "python3"
  },
  "language_info": {
   "codemirror_mode": {
    "name": "ipython",
    "version": 3
   },
   "file_extension": ".py",
   "mimetype": "text/x-python",
   "name": "python",
   "nbconvert_exporter": "python",
   "pygments_lexer": "ipython3",
   "version": "3.6.5"
  }
 },
 "nbformat": 4,
 "nbformat_minor": 2
}
